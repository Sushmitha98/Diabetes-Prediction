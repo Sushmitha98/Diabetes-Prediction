{
 "cells": [
  {
   "cell_type": "code",
   "execution_count": 1,
   "id": "1f427a3e-2203-46e1-92eb-1431cb5761e2",
   "metadata": {},
   "outputs": [],
   "source": [
    "from sklearn.metrics import confusion_matrix, classification_report\n",
    "import seaborn as sns\n",
    "import matplotlib.pyplot as plt\n",
    "import pandas as pd\n",
    "import numpy as np"
   ]
  },
  {
   "cell_type": "code",
   "execution_count": 2,
   "id": "94c8a7f6-93fa-466f-b6a5-09507d4a2731",
   "metadata": {},
   "outputs": [
    {
     "name": "stdout",
     "output_type": "stream",
     "text": [
      "0        False\n",
      "1        False\n",
      "2        False\n",
      "3        False\n",
      "4        False\n",
      "         ...  \n",
      "99995     True\n",
      "99996    False\n",
      "99997    False\n",
      "99998    False\n",
      "99999    False\n",
      "Length: 100000, dtype: bool\n",
      "3854\n"
     ]
    }
   ],
   "source": [
    "\n",
    "# Set a seed for reproducibility\n",
    "np.random.seed(0)\n",
    "\n",
    "# Read in the data\n",
    "data =pd.read_csv('diabetes_prediction_dataset.csv')\n",
    "print(data.duplicated())\n",
    "print(data.duplicated().sum())\n",
    "\n",
    "# dropped dupliccates\n",
    "data.drop_duplicates(inplace=True)\n",
    "\n",
    "\n",
    "\n",
    "sample_df = data.sample(n=30000, random_state=42)\n",
    "\n",
    "\n",
    "# categorise features into numeric and non numeric\n",
    "numeric_col = []\n",
    "non_numeric_col = []\n",
    "for column in data.columns:\n",
    "    if pd.api.types.is_numeric_dtype(data[column]):\n",
    "        if data[column].nunique() < 5:\n",
    "            non_numeric_col.append(column)\n",
    "        else:\n",
    "            numeric_col.append(column)\n",
    "    else:\n",
    "        non_numeric_col.append(column)\n",
    "\n",
    "\n",
    "# Label Encoder\n",
    "class CustomLabelEncoder:\n",
    "    def __init__(self):\n",
    "        self.mapping = {}\n",
    "\n",
    "    def fit(self, data):\n",
    "        unique_values = set(data)\n",
    "        self.mapping = {value: index for index, value in enumerate(unique_values)}\n",
    "\n",
    "    def transform(self, data):\n",
    "        return [self.mapping[value] for value in data]\n",
    "\n",
    "# Encoding non-numeric columns\n",
    "for col in non_numeric_col:\n",
    "    label_encoder = CustomLabelEncoder()\n",
    "    label_encoder.fit(sample_df[col])\n",
    "    sample_df[col] = label_encoder.transform(sample_df[col])\n",
    "\n",
    "\n"
   ]
  },
  {
   "cell_type": "code",
   "execution_count": 3,
   "id": "f2685153-4e33-4762-a945-f92bf78d9073",
   "metadata": {},
   "outputs": [],
   "source": [
    "\n",
    "# Splitting into train, validation and test data\n",
    "def custom_train_validation_test_split(x, y, test_size=0.2, validation_size=0.2, random_state=None):\n",
    "    np.random.seed(random_state)\n",
    "    indices = np.arange(len(x))\n",
    "    np.random.shuffle(indices)\n",
    "\n",
    "    test_size = int(test_size * len(x))\n",
    "    validation_size = int(validation_size * len(x))\n",
    "\n",
    "    test_indices = indices[:test_size]\n",
    "    validation_indices = indices[test_size:(test_size + validation_size)]\n",
    "    train_indices = indices[(test_size + validation_size):]\n",
    "\n",
    "    x_train, x_val, x_test = x.iloc[train_indices], x.iloc[validation_indices], x.iloc[test_indices]\n",
    "    y_train, y_val, y_test = y.iloc[train_indices], y.iloc[validation_indices], y.iloc[test_indices]\n",
    "\n",
    "    return x_train, x_val, x_test, y_train, y_val, y_test\n",
    "\n",
    "\n",
    "# Use the resampled data for splitting\n",
    "X_train, X_valid, X_test, y_train, y_valid, y_test = custom_train_validation_test_split(\n",
    "    sample_df.drop('diabetes', axis=1),\n",
    "    sample_df['diabetes'],\n",
    "    test_size=0.2,\n",
    "    validation_size=0.2,\n",
    "    random_state=42\n",
    ")\n"
   ]
  },
  {
   "cell_type": "code",
   "execution_count": 4,
   "id": "03797678-e8a5-4176-b3a3-4ac4584e9a39",
   "metadata": {},
   "outputs": [
    {
     "name": "stdout",
     "output_type": "stream",
     "text": [
      "[-0.08517853  0.57766484  0.10173336  0.09838422  0.00898818  0.31930373\n",
      "  0.80964551  0.55831745]\n"
     ]
    }
   ],
   "source": [
    "\n",
    "# Standardize the features\n",
    "mean = X_train.mean(axis=0)\n",
    "std = X_train.std(axis=0)\n",
    "X_train = (X_train - mean) / std\n",
    "X_valid = (X_valid - mean) / std\n",
    "\n",
    "# class-specific means for projection\n",
    "mean_class_0 = X_train[y_train == 0].mean(axis=0)\n",
    "mean_class_1 = X_train[y_train == 1].mean(axis=0)\n",
    "\n",
    "#  scatter matrix\n",
    "scatter_class_0 = np.cov(X_train[y_train == 0], rowvar=False)\n",
    "scatter_class_1 = np.cov(X_train[y_train == 1], rowvar=False)\n",
    "\n",
    "# optimal projection direction\n",
    "S_W = scatter_class_0 + scatter_class_1\n",
    "w_optimal = np.linalg.inv(S_W).dot(mean_class_1 - mean_class_0)\n",
    "print(w_optimal)\n",
    "\n",
    "# Project the validation data\n",
    "X_valid_projected = np.matmul(X_valid, w_optimal)\n",
    "# print(X_valid_projected)\n",
    "\n",
    "# Classify each validation sample\n",
    "y_pred = np.where(X_valid_projected >= 0, 1, 0)\n"
   ]
  },
  {
   "cell_type": "code",
   "execution_count": 5,
   "id": "2231dc49-c43e-4498-9266-73fb22fa2d08",
   "metadata": {},
   "outputs": [
    {
     "name": "stdout",
     "output_type": "stream",
     "text": [
      "Accuracy for LDA: 0.6120\n",
      "              precision    recall  f1-score   support\n",
      "\n",
      "           0       1.00      0.58      0.73      5473\n",
      "           1       0.18      0.99      0.31       527\n",
      "\n",
      "    accuracy                           0.61      6000\n",
      "   macro avg       0.59      0.78      0.52      6000\n",
      "weighted avg       0.93      0.61      0.69      6000\n",
      "\n"
     ]
    },
    {
     "data": {
      "image/png": "[encoded data removed]",
      "text/plain": [
       "<Figure size 400x400 with 2 Axes>"
      ]
     },
     "metadata": {},
     "output_type": "display_data"
    },
    {
     "name": "stdout",
     "output_type": "stream",
     "text": [
      "--------------------------------------------------------\n"
     ]
    }
   ],
   "source": [
    "\n",
    "conf_matrix = confusion_matrix(y_valid, y_pred)\n",
    "accuracy = np.trace(conf_matrix) / float(np.sum(conf_matrix))\n",
    "\n",
    "print(f\"Accuracy for LDA: {accuracy:.4f}\")\n",
    "print(classification_report(y_valid, y_pred))\n",
    "\n",
    "# Plotting Confusion Matrix\n",
    "plt.figure(figsize=(4, 4))\n",
    "sns.heatmap(\n",
    "    conf_matrix,\n",
    "    annot=True,\n",
    "    fmt=\".0f\",\n",
    "    cmap=\"Blues\",\n",
    "    xticklabels=[\"Non-Diabetic\", \"Diabetic\"],\n",
    "    yticklabels=[\"Non-Diabetic\", \"Diabetic\"],\n",
    ")\n",
    "plt.xlabel(\"Predicted Class\")\n",
    "plt.ylabel(\"True Class\")\n",
    "plt.title(f\"Confusion Matrix for LDA\")\n",
    "plt.show()\n",
    "\n",
    "print(\"--------------------------------------------------------\")"
   ]
  },
  {
   "cell_type": "code",
   "execution_count": null,
   "id": "2081b715-0ca9-41c1-ad03-e043eb490ea4",
   "metadata": {},
   "outputs": [],
   "source": []
  }
 ],
 "metadata": {
  "kernelspec": {
   "display_name": "Python 3 (ipykernel)",
   "language": "python",
   "name": "python3"
  },
  "language_info": {
   "codemirror_mode": {
    "name": "ipython",
    "version": 3
   },
   "file_extension": ".py",
   "mimetype": "text/x-python",
   "name": "python",
   "nbconvert_exporter": "python",
   "pygments_lexer": "ipython3",
   "version": "3.11.5"
  }
 },
 "nbformat": 4,
 "nbformat_minor": 5
}
